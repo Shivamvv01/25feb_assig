{
 "cells": [
  {
   "cell_type": "code",
   "execution_count": 1,
   "id": "31937126-87d1-4d69-9346-28a1b06684d7",
   "metadata": {},
   "outputs": [],
   "source": [
    "import pandas as pd\n",
    "\n",
    "course_name = ['Data Science','Machine Learning', 'Big Data', 'Data Engineer']\n",
    "\n",
    "duration = [2,3,6,4]\n",
    "\n",
    "df = pd.DataFrame(data = {'course_name' : course_name, 'duration' : duration})"
   ]
  },
  {
   "cell_type": "code",
   "execution_count": 2,
   "id": "c439ba0a-fc68-40ba-8f63-ab90db2903e7",
   "metadata": {},
   "outputs": [
    {
     "data": {
      "text/html": [
       "<div>\n",
       "<style scoped>\n",
       "    .dataframe tbody tr th:only-of-type {\n",
       "        vertical-align: middle;\n",
       "    }\n",
       "\n",
       "    .dataframe tbody tr th {\n",
       "        vertical-align: top;\n",
       "    }\n",
       "\n",
       "    .dataframe thead th {\n",
       "        text-align: right;\n",
       "    }\n",
       "</style>\n",
       "<table border=\"1\" class=\"dataframe\">\n",
       "  <thead>\n",
       "    <tr style=\"text-align: right;\">\n",
       "      <th></th>\n",
       "      <th>course_name</th>\n",
       "      <th>duration</th>\n",
       "    </tr>\n",
       "  </thead>\n",
       "  <tbody>\n",
       "    <tr>\n",
       "      <th>0</th>\n",
       "      <td>Data Science</td>\n",
       "      <td>2</td>\n",
       "    </tr>\n",
       "    <tr>\n",
       "      <th>1</th>\n",
       "      <td>Machine Learning</td>\n",
       "      <td>3</td>\n",
       "    </tr>\n",
       "    <tr>\n",
       "      <th>2</th>\n",
       "      <td>Big Data</td>\n",
       "      <td>6</td>\n",
       "    </tr>\n",
       "    <tr>\n",
       "      <th>3</th>\n",
       "      <td>Data Engineer</td>\n",
       "      <td>4</td>\n",
       "    </tr>\n",
       "  </tbody>\n",
       "</table>\n",
       "</div>"
      ],
      "text/plain": [
       "        course_name  duration\n",
       "0      Data Science         2\n",
       "1  Machine Learning         3\n",
       "2          Big Data         6\n",
       "3     Data Engineer         4"
      ]
     },
     "execution_count": 2,
     "metadata": {},
     "output_type": "execute_result"
    }
   ],
   "source": [
    "df"
   ]
  },
  {
   "cell_type": "markdown",
   "id": "28c6a28a-f9af-4ace-9704-1a984766eff5",
   "metadata": {},
   "source": [
    "Q1. Write a code to print the data present in the second row of the dataframe, df."
   ]
  },
  {
   "cell_type": "code",
   "execution_count": 3,
   "id": "8eaaba2a-5b9e-41f8-a299-c3e4d700219d",
   "metadata": {},
   "outputs": [
    {
     "data": {
      "text/plain": [
       "course_name    Machine Learning\n",
       "duration                      3\n",
       "Name: 1, dtype: object"
      ]
     },
     "execution_count": 3,
     "metadata": {},
     "output_type": "execute_result"
    }
   ],
   "source": [
    "df.iloc[1]"
   ]
  },
  {
   "cell_type": "markdown",
   "id": "24cedf10-a275-44d1-8282-cf2e378d91f5",
   "metadata": {},
   "source": [
    "Q2. What is the difference between the functions loc and iloc in pandas.DataFrame?"
   ]
  },
  {
   "cell_type": "markdown",
   "id": "d8a02df5-0eb6-44b7-88db-7c28d3f87355",
   "metadata": {},
   "source": [
    "Ans: The main difference between the loc and iloc functions in pandas.DataFrame is the way they are used for indexing.\n",
    "\n",
    "loc is primarily label-based indexing, meaning that it uses the labels of rows and columns to access data. It accepts labels or boolean arrays for indexing. For example, df.loc[3, 'column_name'] will retrieve the value at the specified label location.\n",
    "\n",
    "iloc is primarily integer-based indexing, meaning that it uses the integer positions of rows and columns to access data. It accepts integer values or boolean arrays for indexing. For example, df.iloc[2, 1] will retrieve the value at the specified integer location.\n",
    "\n",
    "In summary, loc uses labels for indexing, while iloc uses integer positions for indexing."
   ]
  },
  {
   "cell_type": "code",
   "execution_count": 4,
   "id": "56a26f20-b836-47b4-a5e8-c28d4c278880",
   "metadata": {},
   "outputs": [
    {
     "data": {
      "text/html": [
       "<div>\n",
       "<style scoped>\n",
       "    .dataframe tbody tr th:only-of-type {\n",
       "        vertical-align: middle;\n",
       "    }\n",
       "\n",
       "    .dataframe tbody tr th {\n",
       "        vertical-align: top;\n",
       "    }\n",
       "\n",
       "    .dataframe thead th {\n",
       "        text-align: right;\n",
       "    }\n",
       "</style>\n",
       "<table border=\"1\" class=\"dataframe\">\n",
       "  <thead>\n",
       "    <tr style=\"text-align: right;\">\n",
       "      <th></th>\n",
       "      <th>A</th>\n",
       "      <th>B</th>\n",
       "      <th>C</th>\n",
       "    </tr>\n",
       "  </thead>\n",
       "  <tbody>\n",
       "    <tr>\n",
       "      <th>0</th>\n",
       "      <td>1</td>\n",
       "      <td>6</td>\n",
       "      <td>11</td>\n",
       "    </tr>\n",
       "    <tr>\n",
       "      <th>1</th>\n",
       "      <td>2</td>\n",
       "      <td>7</td>\n",
       "      <td>12</td>\n",
       "    </tr>\n",
       "    <tr>\n",
       "      <th>2</th>\n",
       "      <td>3</td>\n",
       "      <td>8</td>\n",
       "      <td>13</td>\n",
       "    </tr>\n",
       "    <tr>\n",
       "      <th>3</th>\n",
       "      <td>4</td>\n",
       "      <td>9</td>\n",
       "      <td>14</td>\n",
       "    </tr>\n",
       "    <tr>\n",
       "      <th>4</th>\n",
       "      <td>5</td>\n",
       "      <td>10</td>\n",
       "      <td>15</td>\n",
       "    </tr>\n",
       "  </tbody>\n",
       "</table>\n",
       "</div>"
      ],
      "text/plain": [
       "   A   B   C\n",
       "0  1   6  11\n",
       "1  2   7  12\n",
       "2  3   8  13\n",
       "3  4   9  14\n",
       "4  5  10  15"
      ]
     },
     "execution_count": 4,
     "metadata": {},
     "output_type": "execute_result"
    }
   ],
   "source": [
    "data = {'A': [1, 2, 3, 4, 5],\n",
    "        'B': [6, 7, 8, 9, 10],\n",
    "        'C': [11, 12, 13, 14, 15]}\n",
    "df = pd.DataFrame(data)\n",
    "df"
   ]
  },
  {
   "cell_type": "code",
   "execution_count": 5,
   "id": "dc8936cd-c264-4f9f-b93a-78f5a584ae17",
   "metadata": {},
   "outputs": [
    {
     "data": {
      "text/plain": [
       "13"
      ]
     },
     "execution_count": 5,
     "metadata": {},
     "output_type": "execute_result"
    }
   ],
   "source": [
    "df.iloc[2,2]"
   ]
  },
  {
   "cell_type": "code",
   "execution_count": 6,
   "id": "232bff72-9c3d-428f-94d4-f011711c0b75",
   "metadata": {},
   "outputs": [
    {
     "data": {
      "text/plain": [
       "8"
      ]
     },
     "execution_count": 6,
     "metadata": {},
     "output_type": "execute_result"
    }
   ],
   "source": [
    "df.loc[2,'B']"
   ]
  },
  {
   "cell_type": "markdown",
   "id": "00012ea2-060a-4a70-b719-1306816ec6ce",
   "metadata": {},
   "source": [
    "Q3. Reindex the given dataframe using a variable, reindex = [3,0,1,2] and store it in the variable, new_df\n",
    "then find the output for both new_df.loc[2] and new_df.iloc[2]."
   ]
  },
  {
   "cell_type": "code",
   "execution_count": 7,
   "id": "61d043fd-0397-43c3-8deb-3839abaf7340",
   "metadata": {},
   "outputs": [
    {
     "data": {
      "text/html": [
       "<div>\n",
       "<style scoped>\n",
       "    .dataframe tbody tr th:only-of-type {\n",
       "        vertical-align: middle;\n",
       "    }\n",
       "\n",
       "    .dataframe tbody tr th {\n",
       "        vertical-align: top;\n",
       "    }\n",
       "\n",
       "    .dataframe thead th {\n",
       "        text-align: right;\n",
       "    }\n",
       "</style>\n",
       "<table border=\"1\" class=\"dataframe\">\n",
       "  <thead>\n",
       "    <tr style=\"text-align: right;\">\n",
       "      <th></th>\n",
       "      <th>course_name</th>\n",
       "      <th>duration</th>\n",
       "    </tr>\n",
       "  </thead>\n",
       "  <tbody>\n",
       "    <tr>\n",
       "      <th>0</th>\n",
       "      <td>Data Science</td>\n",
       "      <td>2</td>\n",
       "    </tr>\n",
       "    <tr>\n",
       "      <th>1</th>\n",
       "      <td>Machine Learning</td>\n",
       "      <td>3</td>\n",
       "    </tr>\n",
       "    <tr>\n",
       "      <th>2</th>\n",
       "      <td>Big Data</td>\n",
       "      <td>6</td>\n",
       "    </tr>\n",
       "    <tr>\n",
       "      <th>3</th>\n",
       "      <td>Data Engineer</td>\n",
       "      <td>4</td>\n",
       "    </tr>\n",
       "  </tbody>\n",
       "</table>\n",
       "</div>"
      ],
      "text/plain": [
       "        course_name  duration\n",
       "0      Data Science         2\n",
       "1  Machine Learning         3\n",
       "2          Big Data         6\n",
       "3     Data Engineer         4"
      ]
     },
     "execution_count": 7,
     "metadata": {},
     "output_type": "execute_result"
    }
   ],
   "source": [
    "import pandas as pd\n",
    "\n",
    "course_name = ['Data Science','Machine Learning', 'Big Data', 'Data Engineer']\n",
    "\n",
    "duration = [2,3,6,4]\n",
    "\n",
    "df = pd.DataFrame(data = {'course_name' : course_name, 'duration' : duration})\n",
    "df"
   ]
  },
  {
   "cell_type": "code",
   "execution_count": 8,
   "id": "2ccbc6b3-fcf1-4e10-9b4c-cbbbbe40232d",
   "metadata": {},
   "outputs": [
    {
     "data": {
      "text/plain": [
       "course_name    Big Data\n",
       "duration              6\n",
       "Name: 2, dtype: object"
      ]
     },
     "execution_count": 8,
     "metadata": {},
     "output_type": "execute_result"
    }
   ],
   "source": [
    "reindex=[3,0,1,2]\n",
    "new_df=df.reindex(reindex)\n",
    "new_df.loc[2]"
   ]
  },
  {
   "cell_type": "code",
   "execution_count": 9,
   "id": "eb5c595c-7cc9-4b13-9d00-0b7ef7ac2a6c",
   "metadata": {},
   "outputs": [
    {
     "data": {
      "text/html": [
       "<div>\n",
       "<style scoped>\n",
       "    .dataframe tbody tr th:only-of-type {\n",
       "        vertical-align: middle;\n",
       "    }\n",
       "\n",
       "    .dataframe tbody tr th {\n",
       "        vertical-align: top;\n",
       "    }\n",
       "\n",
       "    .dataframe thead th {\n",
       "        text-align: right;\n",
       "    }\n",
       "</style>\n",
       "<table border=\"1\" class=\"dataframe\">\n",
       "  <thead>\n",
       "    <tr style=\"text-align: right;\">\n",
       "      <th></th>\n",
       "      <th>course_name</th>\n",
       "      <th>duration</th>\n",
       "    </tr>\n",
       "  </thead>\n",
       "  <tbody>\n",
       "    <tr>\n",
       "      <th>3</th>\n",
       "      <td>Data Engineer</td>\n",
       "      <td>4</td>\n",
       "    </tr>\n",
       "    <tr>\n",
       "      <th>0</th>\n",
       "      <td>Data Science</td>\n",
       "      <td>2</td>\n",
       "    </tr>\n",
       "    <tr>\n",
       "      <th>1</th>\n",
       "      <td>Machine Learning</td>\n",
       "      <td>3</td>\n",
       "    </tr>\n",
       "    <tr>\n",
       "      <th>2</th>\n",
       "      <td>Big Data</td>\n",
       "      <td>6</td>\n",
       "    </tr>\n",
       "  </tbody>\n",
       "</table>\n",
       "</div>"
      ],
      "text/plain": [
       "        course_name  duration\n",
       "3     Data Engineer         4\n",
       "0      Data Science         2\n",
       "1  Machine Learning         3\n",
       "2          Big Data         6"
      ]
     },
     "execution_count": 9,
     "metadata": {},
     "output_type": "execute_result"
    }
   ],
   "source": [
    "new_df"
   ]
  },
  {
   "cell_type": "code",
   "execution_count": 10,
   "id": "11f3138e-d438-49cf-982d-95a27bdfe005",
   "metadata": {},
   "outputs": [
    {
     "data": {
      "text/plain": [
       "course_name    Machine Learning\n",
       "duration                      3\n",
       "Name: 1, dtype: object"
      ]
     },
     "execution_count": 10,
     "metadata": {},
     "output_type": "execute_result"
    }
   ],
   "source": [
    "new_df.iloc[2]"
   ]
  },
  {
   "cell_type": "markdown",
   "id": "581958d3-49a0-4788-812f-390ebe3a744b",
   "metadata": {},
   "source": [
    "The loc function in pandas DataFrame is primarily label-based, which means it uses the index values to locate and retrieve data. It takes label-based arguments and retrieves data based on the index labels.\n",
    "\n",
    "On the other hand, the iloc function is primarily integer position-based, which means it uses the integer positions to locate and retrieve data. It takes integer-based arguments and retrieves data based on the integer positions of the rows and columns.\n",
    "\n",
    "So, loc follows the index labels, while iloc follows the integer positions of the rows and columns."
   ]
  },
  {
   "cell_type": "markdown",
   "id": "8104195e-f1fd-44f0-ae83-545cdd3dd7c1",
   "metadata": {},
   "source": [
    "Consider the below code to answer further questions:"
   ]
  },
  {
   "cell_type": "code",
   "execution_count": 11,
   "id": "cacc9749-fa3d-4b76-b68c-dbbba0b0598f",
   "metadata": {},
   "outputs": [],
   "source": [
    "import pandas as pd\n",
    "import numpy as np\n",
    "columns = ['column_1', 'column_2', 'column_3', 'column_4', 'column_5', 'column_6']\n",
    "indices = [1,2,3,4,5,6]\n",
    "#Creating a dataframe:\n",
    "df1 = pd.DataFrame(np.random.rand(6,6), columns = columns, index = indices)"
   ]
  },
  {
   "cell_type": "code",
   "execution_count": 12,
   "id": "348b02b7-3f3d-4329-83e0-8bf4a58285bc",
   "metadata": {},
   "outputs": [
    {
     "data": {
      "text/html": [
       "<div>\n",
       "<style scoped>\n",
       "    .dataframe tbody tr th:only-of-type {\n",
       "        vertical-align: middle;\n",
       "    }\n",
       "\n",
       "    .dataframe tbody tr th {\n",
       "        vertical-align: top;\n",
       "    }\n",
       "\n",
       "    .dataframe thead th {\n",
       "        text-align: right;\n",
       "    }\n",
       "</style>\n",
       "<table border=\"1\" class=\"dataframe\">\n",
       "  <thead>\n",
       "    <tr style=\"text-align: right;\">\n",
       "      <th></th>\n",
       "      <th>column_1</th>\n",
       "      <th>column_2</th>\n",
       "      <th>column_3</th>\n",
       "      <th>column_4</th>\n",
       "      <th>column_5</th>\n",
       "      <th>column_6</th>\n",
       "    </tr>\n",
       "  </thead>\n",
       "  <tbody>\n",
       "    <tr>\n",
       "      <th>1</th>\n",
       "      <td>0.520265</td>\n",
       "      <td>0.676645</td>\n",
       "      <td>0.629829</td>\n",
       "      <td>0.183463</td>\n",
       "      <td>0.917982</td>\n",
       "      <td>0.785812</td>\n",
       "    </tr>\n",
       "    <tr>\n",
       "      <th>2</th>\n",
       "      <td>0.325006</td>\n",
       "      <td>0.155126</td>\n",
       "      <td>0.362662</td>\n",
       "      <td>0.776110</td>\n",
       "      <td>0.835284</td>\n",
       "      <td>0.309360</td>\n",
       "    </tr>\n",
       "    <tr>\n",
       "      <th>3</th>\n",
       "      <td>0.220826</td>\n",
       "      <td>0.475634</td>\n",
       "      <td>0.022277</td>\n",
       "      <td>0.997787</td>\n",
       "      <td>0.792554</td>\n",
       "      <td>0.225242</td>\n",
       "    </tr>\n",
       "    <tr>\n",
       "      <th>4</th>\n",
       "      <td>0.902601</td>\n",
       "      <td>0.490837</td>\n",
       "      <td>0.407096</td>\n",
       "      <td>0.399709</td>\n",
       "      <td>0.923333</td>\n",
       "      <td>0.788026</td>\n",
       "    </tr>\n",
       "    <tr>\n",
       "      <th>5</th>\n",
       "      <td>0.731213</td>\n",
       "      <td>0.982433</td>\n",
       "      <td>0.816220</td>\n",
       "      <td>0.861109</td>\n",
       "      <td>0.201009</td>\n",
       "      <td>0.259590</td>\n",
       "    </tr>\n",
       "    <tr>\n",
       "      <th>6</th>\n",
       "      <td>0.535738</td>\n",
       "      <td>0.377258</td>\n",
       "      <td>0.231058</td>\n",
       "      <td>0.839664</td>\n",
       "      <td>0.726953</td>\n",
       "      <td>0.440913</td>\n",
       "    </tr>\n",
       "  </tbody>\n",
       "</table>\n",
       "</div>"
      ],
      "text/plain": [
       "   column_1  column_2  column_3  column_4  column_5  column_6\n",
       "1  0.520265  0.676645  0.629829  0.183463  0.917982  0.785812\n",
       "2  0.325006  0.155126  0.362662  0.776110  0.835284  0.309360\n",
       "3  0.220826  0.475634  0.022277  0.997787  0.792554  0.225242\n",
       "4  0.902601  0.490837  0.407096  0.399709  0.923333  0.788026\n",
       "5  0.731213  0.982433  0.816220  0.861109  0.201009  0.259590\n",
       "6  0.535738  0.377258  0.231058  0.839664  0.726953  0.440913"
      ]
     },
     "execution_count": 12,
     "metadata": {},
     "output_type": "execute_result"
    }
   ],
   "source": [
    "df1"
   ]
  },
  {
   "cell_type": "markdown",
   "id": "1059cc07-870a-46c7-9186-08ea45452b95",
   "metadata": {},
   "source": [
    "Q4. Write a code to find the following statistical measurements for the above dataframe df1:\n",
    "(i) mean of each and every column present in the dataframe.\n",
    "(ii) standard deviation of column, ‘column_2'"
   ]
  },
  {
   "cell_type": "code",
   "execution_count": 13,
   "id": "dc64ce9b-b600-4ec5-af99-e88db1a05fe8",
   "metadata": {},
   "outputs": [
    {
     "data": {
      "text/plain": [
       "column_1    0.539275\n",
       "column_2    0.526322\n",
       "column_3    0.411524\n",
       "column_4    0.676307\n",
       "column_5    0.732852\n",
       "column_6    0.468157\n",
       "dtype: float64"
      ]
     },
     "execution_count": 13,
     "metadata": {},
     "output_type": "execute_result"
    }
   ],
   "source": [
    "df1.mean()"
   ]
  },
  {
   "cell_type": "code",
   "execution_count": 14,
   "id": "1858a7f4-88d1-4003-8f8d-6c461e00358e",
   "metadata": {},
   "outputs": [
    {
     "data": {
      "text/plain": [
       "0.2808805778643758"
      ]
     },
     "execution_count": 14,
     "metadata": {},
     "output_type": "execute_result"
    }
   ],
   "source": [
    "df1['column_2'].std()"
   ]
  },
  {
   "cell_type": "markdown",
   "id": "0248f8d0-3f36-45b0-b848-a461fba4cc7f",
   "metadata": {},
   "source": [
    "Q5. Replace the data present in the second row of column, ‘column_2’ by a string variable then find the\n",
    "mean of column, column_2.\n",
    "If you are getting errors in executing it then explain why.\n",
    "[Hint: To replace the data use df1.loc[] and equate this to string data of your choice.]"
   ]
  },
  {
   "cell_type": "code",
   "execution_count": 15,
   "id": "02eb196a-2fa8-444d-9841-57a2b415703e",
   "metadata": {},
   "outputs": [
    {
     "data": {
      "text/html": [
       "<div>\n",
       "<style scoped>\n",
       "    .dataframe tbody tr th:only-of-type {\n",
       "        vertical-align: middle;\n",
       "    }\n",
       "\n",
       "    .dataframe tbody tr th {\n",
       "        vertical-align: top;\n",
       "    }\n",
       "\n",
       "    .dataframe thead th {\n",
       "        text-align: right;\n",
       "    }\n",
       "</style>\n",
       "<table border=\"1\" class=\"dataframe\">\n",
       "  <thead>\n",
       "    <tr style=\"text-align: right;\">\n",
       "      <th></th>\n",
       "      <th>column_1</th>\n",
       "      <th>column_2</th>\n",
       "      <th>column_3</th>\n",
       "      <th>column_4</th>\n",
       "      <th>column_5</th>\n",
       "      <th>column_6</th>\n",
       "    </tr>\n",
       "  </thead>\n",
       "  <tbody>\n",
       "    <tr>\n",
       "      <th>1</th>\n",
       "      <td>0.520265</td>\n",
       "      <td>0.676645</td>\n",
       "      <td>0.629829</td>\n",
       "      <td>0.183463</td>\n",
       "      <td>0.917982</td>\n",
       "      <td>0.785812</td>\n",
       "    </tr>\n",
       "    <tr>\n",
       "      <th>2</th>\n",
       "      <td>0.325006</td>\n",
       "      <td>0.155126</td>\n",
       "      <td>0.362662</td>\n",
       "      <td>0.776110</td>\n",
       "      <td>0.835284</td>\n",
       "      <td>0.309360</td>\n",
       "    </tr>\n",
       "    <tr>\n",
       "      <th>3</th>\n",
       "      <td>0.220826</td>\n",
       "      <td>0.475634</td>\n",
       "      <td>0.022277</td>\n",
       "      <td>0.997787</td>\n",
       "      <td>0.792554</td>\n",
       "      <td>0.225242</td>\n",
       "    </tr>\n",
       "    <tr>\n",
       "      <th>4</th>\n",
       "      <td>0.902601</td>\n",
       "      <td>0.490837</td>\n",
       "      <td>0.407096</td>\n",
       "      <td>0.399709</td>\n",
       "      <td>0.923333</td>\n",
       "      <td>0.788026</td>\n",
       "    </tr>\n",
       "    <tr>\n",
       "      <th>5</th>\n",
       "      <td>0.731213</td>\n",
       "      <td>0.982433</td>\n",
       "      <td>0.816220</td>\n",
       "      <td>0.861109</td>\n",
       "      <td>0.201009</td>\n",
       "      <td>0.259590</td>\n",
       "    </tr>\n",
       "    <tr>\n",
       "      <th>6</th>\n",
       "      <td>0.535738</td>\n",
       "      <td>0.377258</td>\n",
       "      <td>0.231058</td>\n",
       "      <td>0.839664</td>\n",
       "      <td>0.726953</td>\n",
       "      <td>0.440913</td>\n",
       "    </tr>\n",
       "  </tbody>\n",
       "</table>\n",
       "</div>"
      ],
      "text/plain": [
       "   column_1  column_2  column_3  column_4  column_5  column_6\n",
       "1  0.520265  0.676645  0.629829  0.183463  0.917982  0.785812\n",
       "2  0.325006  0.155126  0.362662  0.776110  0.835284  0.309360\n",
       "3  0.220826  0.475634  0.022277  0.997787  0.792554  0.225242\n",
       "4  0.902601  0.490837  0.407096  0.399709  0.923333  0.788026\n",
       "5  0.731213  0.982433  0.816220  0.861109  0.201009  0.259590\n",
       "6  0.535738  0.377258  0.231058  0.839664  0.726953  0.440913"
      ]
     },
     "execution_count": 15,
     "metadata": {},
     "output_type": "execute_result"
    }
   ],
   "source": [
    "df1"
   ]
  },
  {
   "cell_type": "code",
   "execution_count": 16,
   "id": "cb59a535-6192-4d0b-b4eb-1480059fa66f",
   "metadata": {},
   "outputs": [],
   "source": [
    "df1.loc[2,'column_2']='string'"
   ]
  },
  {
   "cell_type": "code",
   "execution_count": 17,
   "id": "7f2ba700-c6d0-4f6a-a49e-30033aa86378",
   "metadata": {},
   "outputs": [
    {
     "data": {
      "text/html": [
       "<div>\n",
       "<style scoped>\n",
       "    .dataframe tbody tr th:only-of-type {\n",
       "        vertical-align: middle;\n",
       "    }\n",
       "\n",
       "    .dataframe tbody tr th {\n",
       "        vertical-align: top;\n",
       "    }\n",
       "\n",
       "    .dataframe thead th {\n",
       "        text-align: right;\n",
       "    }\n",
       "</style>\n",
       "<table border=\"1\" class=\"dataframe\">\n",
       "  <thead>\n",
       "    <tr style=\"text-align: right;\">\n",
       "      <th></th>\n",
       "      <th>column_1</th>\n",
       "      <th>column_2</th>\n",
       "      <th>column_3</th>\n",
       "      <th>column_4</th>\n",
       "      <th>column_5</th>\n",
       "      <th>column_6</th>\n",
       "    </tr>\n",
       "  </thead>\n",
       "  <tbody>\n",
       "    <tr>\n",
       "      <th>1</th>\n",
       "      <td>0.520265</td>\n",
       "      <td>0.676645</td>\n",
       "      <td>0.629829</td>\n",
       "      <td>0.183463</td>\n",
       "      <td>0.917982</td>\n",
       "      <td>0.785812</td>\n",
       "    </tr>\n",
       "    <tr>\n",
       "      <th>2</th>\n",
       "      <td>0.325006</td>\n",
       "      <td>string</td>\n",
       "      <td>0.362662</td>\n",
       "      <td>0.776110</td>\n",
       "      <td>0.835284</td>\n",
       "      <td>0.309360</td>\n",
       "    </tr>\n",
       "    <tr>\n",
       "      <th>3</th>\n",
       "      <td>0.220826</td>\n",
       "      <td>0.475634</td>\n",
       "      <td>0.022277</td>\n",
       "      <td>0.997787</td>\n",
       "      <td>0.792554</td>\n",
       "      <td>0.225242</td>\n",
       "    </tr>\n",
       "    <tr>\n",
       "      <th>4</th>\n",
       "      <td>0.902601</td>\n",
       "      <td>0.490837</td>\n",
       "      <td>0.407096</td>\n",
       "      <td>0.399709</td>\n",
       "      <td>0.923333</td>\n",
       "      <td>0.788026</td>\n",
       "    </tr>\n",
       "    <tr>\n",
       "      <th>5</th>\n",
       "      <td>0.731213</td>\n",
       "      <td>0.982433</td>\n",
       "      <td>0.816220</td>\n",
       "      <td>0.861109</td>\n",
       "      <td>0.201009</td>\n",
       "      <td>0.259590</td>\n",
       "    </tr>\n",
       "    <tr>\n",
       "      <th>6</th>\n",
       "      <td>0.535738</td>\n",
       "      <td>0.377258</td>\n",
       "      <td>0.231058</td>\n",
       "      <td>0.839664</td>\n",
       "      <td>0.726953</td>\n",
       "      <td>0.440913</td>\n",
       "    </tr>\n",
       "  </tbody>\n",
       "</table>\n",
       "</div>"
      ],
      "text/plain": [
       "   column_1  column_2  column_3  column_4  column_5  column_6\n",
       "1  0.520265  0.676645  0.629829  0.183463  0.917982  0.785812\n",
       "2  0.325006    string  0.362662  0.776110  0.835284  0.309360\n",
       "3  0.220826  0.475634  0.022277  0.997787  0.792554  0.225242\n",
       "4  0.902601  0.490837  0.407096  0.399709  0.923333  0.788026\n",
       "5  0.731213  0.982433  0.816220  0.861109  0.201009  0.259590\n",
       "6  0.535738  0.377258  0.231058  0.839664  0.726953  0.440913"
      ]
     },
     "execution_count": 17,
     "metadata": {},
     "output_type": "execute_result"
    }
   ],
   "source": [
    "df1"
   ]
  },
  {
   "cell_type": "code",
   "execution_count": 18,
   "id": "5dd72928-d951-4c8f-ac26-f9fc0ce267c5",
   "metadata": {},
   "outputs": [],
   "source": [
    "df1['column_2'].mean()"
   ]
  },
  {
   "cell_type": "markdown",
   "id": "e339a030-80e7-4841-8caa-730d792c1070",
   "metadata": {},
   "source": [
    "However, this code may raise an error because you are trying to calculate the mean of column 'column_2' which now contains a string value. Mean calculation requires numerical values, and a string cannot be included in the calculation.\n",
    "\n",
    "If you encounter an error, it will be due to attempting to calculate the mean on a column that contains a non-numeric value. To resolve this, ensure that the data in 'column_2' is numeric before calculating the mean."
   ]
  },
  {
   "cell_type": "markdown",
   "id": "e8bc3392-777c-4533-ba51-0dbcc00521a2",
   "metadata": {},
   "source": [
    "Q6. What do you understand about the windows function in pandas and list the types of windows\n",
    "functions?"
   ]
  },
  {
   "cell_type": "markdown",
   "id": "5db27b85-bebd-471c-8a75-d7c47ab77b14",
   "metadata": {},
   "source": [
    "In pandas, the windows functions are used to perform calculations on a set of data points within a specified window or group. These functions operate on a sliding or rolling window of data and allow us to perform various computations such as aggregations, transformations, and filtering.\n",
    "\n",
    "There are several types of windows functions available in pandas:\n",
    "\n",
    "Aggregating Functions: These functions aggregate the values within a window and return a single value as the result. Examples include sum(), mean(), min(), max(), count(), etc.\n",
    "\n",
    "Expanding Functions: These functions gradually expand the window size as it moves forward. They compute a cumulative value based on all the data seen up to the current point. Examples include cumsum(), cumprod(), cummax(), cummin(), etc.\n",
    "\n",
    "Rolling Functions: These functions operate on a fixed-size window that moves along the data. They provide rolling or sliding window calculations and can be used for tasks like moving averages, moving sums, etc. Examples include rolling().mean(), rolling().sum(), rolling().std(), rolling().min(), rolling().max(), etc.\n",
    "\n",
    "Transform Functions: These functions return a transformed version of the data within the window. They preserve the size and shape of the original data. Examples include shift(), diff(), pct_change(), etc.\n",
    "\n",
    "By using these windows functions, we can perform various calculations and analysis on data based on specific window sizes or groups."
   ]
  },
  {
   "cell_type": "markdown",
   "id": "f3e6dda8-6e4e-42c6-a505-8f36e7168244",
   "metadata": {},
   "source": [
    "Q7. Write a code to print only the current month and year at the time of answering this question.\n",
    "[Hint: Use pandas.datetime function]"
   ]
  },
  {
   "cell_type": "code",
   "execution_count": 19,
   "id": "5b6a2315-f792-4663-8137-d7a826b51cb5",
   "metadata": {},
   "outputs": [
    {
     "name": "stderr",
     "output_type": "stream",
     "text": [
      "/tmp/ipykernel_2475/880839337.py:1: FutureWarning: The pandas.datetime class is deprecated and will be removed from pandas in a future version. Import from datetime module instead.\n",
      "  pd.datetime.now().month\n"
     ]
    },
    {
     "data": {
      "text/plain": [
       "10"
      ]
     },
     "execution_count": 19,
     "metadata": {},
     "output_type": "execute_result"
    }
   ],
   "source": [
    "pd.datetime.now().month"
   ]
  },
  {
   "cell_type": "code",
   "execution_count": 20,
   "id": "9e838389-6cb6-4e08-83b6-704ff930fa78",
   "metadata": {},
   "outputs": [
    {
     "name": "stderr",
     "output_type": "stream",
     "text": [
      "/tmp/ipykernel_2475/3056029991.py:1: FutureWarning: The pandas.datetime class is deprecated and will be removed from pandas in a future version. Import from datetime module instead.\n",
      "  pd.datetime.now().year\n"
     ]
    },
    {
     "data": {
      "text/plain": [
       "2023"
      ]
     },
     "execution_count": 20,
     "metadata": {},
     "output_type": "execute_result"
    }
   ],
   "source": [
    "pd.datetime.now().year"
   ]
  },
  {
   "cell_type": "markdown",
   "id": "327d32d3-f6eb-491d-b8a3-e57eec9c7cce",
   "metadata": {},
   "source": [
    "Q8. Write a Python program that takes in two dates as input (in the format YYYY-MM-DD) and\n",
    "calculates the difference between them in days, hours, and minutes using Pandas time delta. The\n",
    "program should prompt the user to enter the dates and display the result."
   ]
  },
  {
   "cell_type": "code",
   "execution_count": null,
   "id": "a9c08132-2025-4cdf-a762-bfd948369d36",
   "metadata": {},
   "outputs": [],
   "source": [
    "date1=pd.to_datetime(input('enter the first date (yyyy-mm-dd):'))\n",
    "date2=pd.to_datetime(input('enter the second date (yyyy-mm-dd):'))\n",
    "diff=date2-date1\n",
    "\n",
    "days=diff.days\n",
    "hours=diff.seconds//3600\n",
    "minutes=(diff.seconds%3600)//60\n",
    "print(f\"difference : {days} days , {hours} hours , {minutes} minutes \") "
   ]
  },
  {
   "cell_type": "markdown",
   "id": "77f48b7a-14d7-41dd-9b46-ecce68e8e052",
   "metadata": {},
   "source": [
    "Q9. Write a Python program that reads a CSV file containing categorical data and converts a specified\n",
    "column to a categorical data type. The program should prompt the user to enter the file path, column\n",
    "name, and category order, and then display the sorted data."
   ]
  },
  {
   "cell_type": "code",
   "execution_count": null,
   "id": "22f30dc1-7d7a-4431-98db-208c1d5c3ad8",
   "metadata": {},
   "outputs": [],
   "source": [
    "file_path=input('enter the file path :')\n",
    "column_name=input('enter the column name :')\n",
    "category_order=input(\"enter the category order ( comma-separated ) : \").split(\",\")\n",
    "\n",
    "df=pd.read_csv(\"https://raw.githubusercontent.com/datasciencedojo/datasets/master/titanic.csv\")\n",
    "\n",
    "df[column_name]=pd.Categorical(df[column_name] , categories =category_order , ordered=True)\n",
    "\n",
    "df_sorted=df.sort_values(by=column_name)\n",
    "\n",
    "print(df_sorted)"
   ]
  },
  {
   "cell_type": "markdown",
   "id": "ed285926-fff9-4b16-a70a-f54a14fa1aba",
   "metadata": {},
   "source": [
    "Q10. Write a Python program that reads a CSV file containing sales data for different products and\n",
    "visualizes the data using a stacked bar chart to show the sales of each product category over time. The\n",
    "program should prompt the user to enter the file path and display the chart."
   ]
  },
  {
   "cell_type": "code",
   "execution_count": null,
   "id": "d289d2e6-d257-4c6d-b6ea-2f164a148142",
   "metadata": {},
   "outputs": [],
   "source": [
    "import pandas as pd \n",
    "import matplotlib.pyplot as plt\n",
    "\n",
    "file_path=input('enter the file path')\n",
    "df=pd.read_csv(file_path)\n",
    "\n",
    "df['Date']=pd.to_datetime(df['Date'])\n",
    "\n",
    "pivot_data=df.pivot(index='Date' , columns='Product' , values='Sales')\n",
    "\n",
    "pivot_data.plot(kind='bar' , stacked=True)\n",
    "plt.xlabel('Date')\n",
    "plt.ylabel('Sales')\n",
    "plt.title('Sales of Products Over Time')\n",
    "plt.show()"
   ]
  },
  {
   "cell_type": "markdown",
   "id": "32581247-687c-4435-b166-5a355b99e41e",
   "metadata": {},
   "source": [
    "11. You are given a CSV file containing student data that includes the student ID and their test score. Write\n",
    "a Python program that reads the CSV file, calculates the mean, median, and mode of the test scores, and\n",
    "displays the results in a table.\n",
    "The program should do the followingM\n",
    "I Prompt the user to enter the file path of the CSV file containing the student dataR\n",
    "I Read the CSV file into a Pandas DataFrameR\n",
    "I Calculate the mean, median, and mode of the test scores using Pandas toolsR\n",
    "I Display the mean, median, and mode in a table.\n",
    "Assume the CSV file contains the following columnsM\n",
    "I Student ID: The ID of the studentR\n",
    "I Test Score: The score of the student's test.\n",
    "Example usage of the program:\n",
    "Enter the file path of the CSV file containing the student data: student_data.csv\n",
    "+-----------+--------+\n",
    "| Statistic | Value |\n",
    "+-----------+--------+\n",
    "| Mean | 79.6 |\n",
    "| Median | 82 |\n",
    "| Mode | 85, 90 |\n",
    "+-----------+--------+\n",
    "Assume that the CSV file student_data.csv contains the following data:\n",
    "Student ID,Test Score\n",
    "1,85\n",
    "2,90\n",
    "3,80\n",
    "4,75\n",
    "5,85\n",
    "6,82\n",
    "7,78\n",
    "8,85\n",
    "9,90\n",
    "10,85\n",
    "The program should calculate the mean, median, and mode of the test scores and display the results"
   ]
  },
  {
   "cell_type": "code",
   "execution_count": null,
   "id": "c25ca9fa-a2b1-41d7-8e9e-99fa0acf3d91",
   "metadata": {},
   "outputs": [],
   "source": [
    "import pandas as pd \n",
    "\n",
    "file_path=input('enter the file path')\n",
    "\n",
    "df=pd.read_csv(file_path)\n",
    "\n",
    "mean=df['Test Score'].mean()\n",
    "median=df['Test Score'].median()\n",
    "mode=df['Test Score'].mode()\n",
    "\n",
    "df1=pd.DataFrame({'Statistics':['Mean' ,'Median' , 'Mode']\n",
    "                 , 'Value' :[mean,median,mode]})\n",
    "\n",
    "print(df1)"
   ]
  }
 ],
 "metadata": {
  "kernelspec": {
   "display_name": "Python 3 (ipykernel)",
   "language": "python",
   "name": "python3"
  },
  "language_info": {
   "codemirror_mode": {
    "name": "ipython",
    "version": 3
   },
   "file_extension": ".py",
   "mimetype": "text/x-python",
   "name": "python",
   "nbconvert_exporter": "python",
   "pygments_lexer": "ipython3",
   "version": "3.10.8"
  }
 },
 "nbformat": 4,
 "nbformat_minor": 5
}
